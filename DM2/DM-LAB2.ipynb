{
 "cells": [
  {
   "cell_type": "markdown",
   "metadata": {
    "colab_type": "text",
    "id": "T7vUYmK-nP0_"
   },
   "source": [
    "# Лабораторна робота №2 з Видобування даних\n",
    "## Розуміння даних\n",
    "### Мета роботи: навчитися базовому фунукціоналу pandas/matplotlib для числельного і візуального аналізу вхідних даних та їх характеристик"
   ]
  },
  {
   "cell_type": "markdown",
   "metadata": {
    "colab_type": "text",
    "id": "hMkBHaEBoRL3"
   },
   "source": [
    "###1.[Завантажте набір даних у колаб](https://towardsdatascience.com/3-ways-to-load-csv-files-into-colab-7c14fcbdcb92), і у data frame за допомогою pandas відобразіть перші 10 записів "
   ]
  },
  {
   "cell_type": "code",
   "execution_count": null,
   "metadata": {
    "colab": {},
    "colab_type": "code",
    "id": "3yAOJ4KDoc-U"
   },
   "outputs": [],
   "source": [
    "### Code starts from here ###"
   ]
  },
  {
   "cell_type": "markdown",
   "metadata": {
    "colab_type": "text",
    "id": "XnzrU-7Oocdd"
   },
   "source": [
    "###2.Опишіть колонки які ви використовуєте для аналізу в подальшому, що за дані в них зберігаються якщо потрібен опис або їх призначення неочевидне / специфічне для домену \n"
   ]
  },
  {
   "cell_type": "code",
   "execution_count": null,
   "metadata": {
    "colab": {},
    "colab_type": "code",
    "id": "qCbXc55toeq7"
   },
   "outputs": [],
   "source": []
  },
  {
   "cell_type": "markdown",
   "metadata": {
    "colab_type": "text",
    "id": "O-2VTbG_ofEC"
   },
   "source": [
    "###3.Чи є [категоріальні / числові дані](https://towardsdatascience.com/data-types-in-statistics-347e152e8bee) ? [Виведіть усі варіанти категорій для певної колонки](https://cmdlinetips.com/2018/01/how-to-get-unique-values-from-a-column-in-pandas-data-frame/) ( в рамках розуміного - якщо ці категорії це унікальні значення тоді не треба). Чи є закодовані дані (з використанням скорочень / кодів / ітд) - що вони значать у вашому випадку? \n",
    " "
   ]
  },
  {
   "cell_type": "code",
   "execution_count": null,
   "metadata": {
    "colab": {},
    "colab_type": "code",
    "id": "nNNk6cxVogga"
   },
   "outputs": [],
   "source": []
  },
  {
   "cell_type": "markdown",
   "metadata": {
    "colab_type": "text",
    "id": "RE_GE7Nsogzr"
   },
   "source": [
    "###4.Виведіть максимальні / мінімальні значення для числових колонок. Чи вони коректні в реаліях домену? Чи вони взагалі є подібним до реальності числом чи швидше заглушкою/помилкою?\n"
   ]
  },
  {
   "cell_type": "code",
   "execution_count": null,
   "metadata": {
    "colab": {},
    "colab_type": "code",
    "id": "mgnNuLE_oiAT"
   },
   "outputs": [],
   "source": []
  },
  {
   "cell_type": "markdown",
   "metadata": {
    "colab_type": "text",
    "id": "2vkcohsnoiHG"
   },
   "source": [
    "###5.чи є у вас у даних пусті / null / нулі / або інакшим чином некоректні / незаповнені записи або клітинки? Наскільки ці колонки для вас критичні якщо такі є?  [(help)](https://www.geeksforgeeks.org/working-with-missing-data-in-pandas/\n",
    ")\n",
    "\n",
    "(**sic!** в рамках даної лабораторної тільки виявлення таких записів без їхньої зміни - тільки якщо вона потрібна вашим подальшим завданням у даній лабораторні)\n"
   ]
  },
  {
   "cell_type": "code",
   "execution_count": null,
   "metadata": {
    "colab": {},
    "colab_type": "code",
    "id": "kx-D8FJ4ojiR"
   },
   "outputs": [],
   "source": []
  },
  {
   "cell_type": "markdown",
   "metadata": {
    "colab_type": "text",
    "id": "np7IITHeojql"
   },
   "source": [
    "###6.Виведіть за допомогою matplotlib/seaborn 3 або більше (якщо хочете) [розподілів для даних](https://towardsdatascience.com/histograms-and-density-plots-in-python-f6bda88f5ac0); що з них можна дізнатися цікавого/корисного для нас? [Який тип ймовріносного розподілу для них найближчий? ](http://tinyheero.github.io/assets/prob-distr/overview-prob-distr.png)\n",
    "\n",
    "\n"
   ]
  },
  {
   "cell_type": "code",
   "execution_count": null,
   "metadata": {
    "colab": {},
    "colab_type": "code",
    "id": "vKbFUrg6olc6"
   },
   "outputs": [],
   "source": []
  },
  {
   "cell_type": "markdown",
   "metadata": {
    "colab_type": "text",
    "id": "wptzV3Iqoln8"
   },
   "source": [
    "###7.Виведіть 3 (або більше якщо вважаєте за потрібне) графіки за допомогою [matplotlib](https://towardsdatascience.com/matplotlib-tutorial-learn-basics-of-pythons-powerful-plotting-library-b5d1b8f67596)/seaborn/ggplot/altair для ваших колонок. Що з них корисного / цікавого можна дізнатися? (не обов'язково довго мудрувати можете описати що бачите на них якщо немає якихось нових здогакдок/інсайтів)\n"
   ]
  },
  {
   "cell_type": "code",
   "execution_count": null,
   "metadata": {
    "colab": {},
    "colab_type": "code",
    "id": "BJq2iRaKonBJ"
   },
   "outputs": [],
   "source": []
  },
  {
   "cell_type": "markdown",
   "metadata": {
    "colab_type": "text",
    "id": "9JpplubIonJZ"
   },
   "source": [
    "###8.[Виведіть кореляційну матрицю або heatmap для ваших даних](https://datatofish.com/correlation-matrix-pandas/) (можете обрати частину з них). Чи є цікаві /до того не замітні кореляції між даними? Чи вони були очевидні до того або їх можна пояснити гіпотезою з вашого боку? Наведіть 3 приклади."
   ]
  },
  {
   "cell_type": "code",
   "execution_count": null,
   "metadata": {
    "colab": {},
    "colab_type": "code",
    "id": "YtNE3V0konmj"
   },
   "outputs": [],
   "source": []
  }
 ],
 "metadata": {
  "colab": {
   "authorship_tag": "ABX9TyNxV7qW+PXRy0vwSsmTOD/A",
   "collapsed_sections": [],
   "name": "DM-LAB2.ipynb",
   "provenance": []
  },
  "kernelspec": {
   "display_name": "Python 3",
   "language": "python",
   "name": "python3"
  },
  "language_info": {
   "codemirror_mode": {
    "name": "ipython",
    "version": 3
   },
   "file_extension": ".py",
   "mimetype": "text/x-python",
   "name": "python",
   "nbconvert_exporter": "python",
   "pygments_lexer": "ipython3",
   "version": "3.7.4"
  }
 },
 "nbformat": 4,
 "nbformat_minor": 4
}
