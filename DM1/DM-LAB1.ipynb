{
 "cells": [
  {
   "cell_type": "markdown",
   "metadata": {
    "colab_type": "text",
    "id": "OCA0sxOTdoZa"
   },
   "source": [
    "# Видобування даних \n",
    "# Лабораторна робота №1 : Розуміння задачі і області застосування"
   ]
  },
  {
   "cell_type": "code",
   "execution_count": null,
   "metadata": {
    "colab": {},
    "colab_type": "code",
    "id": "Ew3ip4LnR_uo"
   },
   "outputs": [],
   "source": []
  },
  {
   "cell_type": "markdown",
   "metadata": {
    "colab_type": "text",
    "id": "P_11814QeIh2"
   },
   "source": [
    "Вибір та обгрунтування набору даних. Фаза Business understanding за СRISP-DM."
   ]
  },
  {
   "cell_type": "markdown",
   "metadata": {
    "colab_type": "text",
    "id": "y9Eo8WPHfJ1j"
   },
   "source": [
    "Перша лабораторна робота призначена для обрання та мотивації обраного набору даних. Основними вимогами є: \n",
    "\n",
    "\n",
    "*   Табличне представлення даних (не зображення або часовий ряд)\n",
    "*   Мінімум 250 записів - чим краще тим більше , в рамках розумного (менша кількість записів можлива але обговорювана)\n",
    "*   Мінімум 4 колонки з даними по яким можна буде виконувати аналіз / моделювання і візуалізацію (колонки типу ID, номер або службові не рахуються)\n",
    "* Один варіант набору даних на групу\n",
    "\n",
    "\n"
   ]
  },
  {
   "cell_type": "markdown",
   "metadata": {
    "colab_type": "text",
    "id": "13x69uemhsFO"
   },
   "source": [
    "1. Який набір даних ви обрали ?"
   ]
  },
  {
   "cell_type": "markdown",
   "metadata": {
    "colab_type": "text",
    "id": "tZOrhH0elQHn"
   },
   "source": [
    "2. Які у вас ідеї / теорії / припущення що у вибраному домені можна покращити з аналізом та видобуванням даних ?"
   ]
  },
  {
   "cell_type": "markdown",
   "metadata": {
    "colab_type": "text",
    "id": "Rq1CW2pRln99"
   },
   "source": [
    "3. Які проблеми є у області з якої ви взяли дані ? Що є \"bottleneck\" у даному напрямі, що можна автоматизувати ?"
   ]
  },
  {
   "cell_type": "markdown",
   "metadata": {
    "colab_type": "text",
    "id": "MBlrc9mvl-EB"
   },
   "source": [
    "4. Що за ризики / складності ви припускаєте можуть очікувати вас в процесі роботи з даними ?"
   ]
  },
  {
   "cell_type": "markdown",
   "metadata": {
    "colab_type": "text",
    "id": "EDjE0P1Cmi8z"
   },
   "source": [
    "5. В рамках добування даних яким методом ваша проблема або ідея може бути вирішена ? (кластеризація, прогнозування, класифікація)"
   ]
  }
 ],
 "metadata": {
  "colab": {
   "authorship_tag": "ABX9TyPttfLN7WyNpwjY54iWM6Rv",
   "collapsed_sections": [],
   "name": "DM-LAB1.ipynb",
   "provenance": []
  },
  "kernelspec": {
   "display_name": "Python 3",
   "language": "python",
   "name": "python3"
  },
  "language_info": {
   "codemirror_mode": {
    "name": "ipython",
    "version": 3
   },
   "file_extension": ".py",
   "mimetype": "text/x-python",
   "name": "python",
   "nbconvert_exporter": "python",
   "pygments_lexer": "ipython3",
   "version": "3.7.4"
  }
 },
 "nbformat": 4,
 "nbformat_minor": 4
}
